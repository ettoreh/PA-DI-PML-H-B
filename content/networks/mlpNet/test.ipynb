{
 "cells": [
  {
   "cell_type": "code",
   "execution_count": 9,
   "metadata": {},
   "outputs": [],
   "source": [
    "import random\n",
    "import torch\n",
    "import torch.nn as nn\n",
    "\n",
    "import numpy as np\n",
    "import matplotlib.pyplot as plt\n",
    "\n",
    "from Net import Net"
   ]
  },
  {
   "cell_type": "code",
   "execution_count": 33,
   "metadata": {},
   "outputs": [
    {
     "ename": "ImportError",
     "evalue": "attempted relative import with no known parent package",
     "output_type": "error",
     "traceback": [
      "\u001b[0;31m---------------------------------------------------------------------------\u001b[0m",
      "\u001b[0;31mImportError\u001b[0m                               Traceback (most recent call last)",
      "Cell \u001b[0;32mIn [33], line 3\u001b[0m\n\u001b[1;32m      1\u001b[0m \u001b[39mimport\u001b[39;00m \u001b[39msys\u001b[39;00m\n\u001b[1;32m      2\u001b[0m sys\u001b[39m.\u001b[39mpath\u001b[39m.\u001b[39mappend(\u001b[39m'\u001b[39m\u001b[39m../\u001b[39m\u001b[39m'\u001b[39m)\n\u001b[0;32m----> 3\u001b[0m \u001b[39mfrom\u001b[39;00m \u001b[39m.\u001b[39;00m\u001b[39m.\u001b[39;00m\u001b[39mcontent\u001b[39;00m \u001b[39mimport\u001b[39;00m watermark\n",
      "\u001b[0;31mImportError\u001b[0m: attempted relative import with no known parent package"
     ]
    }
   ],
   "source": [
    "from content import watermark"
   ]
  },
  {
   "cell_type": "code",
   "execution_count": 27,
   "metadata": {},
   "outputs": [
    {
     "ename": "ModuleNotFoundError",
     "evalue": "No module named 'watermark'",
     "output_type": "error",
     "traceback": [
      "\u001b[0;31m---------------------------------------------------------------------------\u001b[0m",
      "\u001b[0;31mModuleNotFoundError\u001b[0m                       Traceback (most recent call last)",
      "Cell \u001b[0;32mIn [27], line 1\u001b[0m\n\u001b[0;32m----> 1\u001b[0m \u001b[39mfrom\u001b[39;00m \u001b[39mwatermark\u001b[39;00m\u001b[39m.\u001b[39;00m\u001b[39msecret_matrix\u001b[39;00m \u001b[39mimport\u001b[39;00m get_watermark_from_text\n\u001b[1;32m      3\u001b[0m get_watermark_from_text(\u001b[39m'\u001b[39m\u001b[39mEttore Hidoux\u001b[39m\u001b[39m'\u001b[39m)\n",
      "\u001b[0;31mModuleNotFoundError\u001b[0m: No module named 'watermark'"
     ]
    }
   ],
   "source": [
    "\n",
    "from watermark.secret_matrix import get_watermark_from_text\n",
    "\n",
    "get_watermark_from_text('Ettore Hidoux')"
   ]
  },
  {
   "cell_type": "code",
   "execution_count": 34,
   "metadata": {},
   "outputs": [
    {
     "ename": "ModuleNotFoundError",
     "evalue": "No module named 'content'",
     "output_type": "error",
     "traceback": [
      "\u001b[0;31m---------------------------------------------------------------------------\u001b[0m",
      "\u001b[0;31mModuleNotFoundError\u001b[0m                       Traceback (most recent call last)",
      "Cell \u001b[0;32mIn [34], line 1\u001b[0m\n\u001b[0;32m----> 1\u001b[0m \u001b[39mfrom\u001b[39;00m \u001b[39mcontent\u001b[39;00m \u001b[39mimport\u001b[39;00m watermark\n",
      "\u001b[0;31mModuleNotFoundError\u001b[0m: No module named 'content'"
     ]
    }
   ],
   "source": [
    "from content import watermark"
   ]
  },
  {
   "cell_type": "code",
   "execution_count": 16,
   "metadata": {},
   "outputs": [
    {
     "data": {
      "text/plain": [
       "[0, 1, 1, 0, 1, 1, 1, 1, 0, 0, 1, 0, 0, 0, 1, 1]"
      ]
     },
     "execution_count": 16,
     "metadata": {},
     "output_type": "execute_result"
    }
   ],
   "source": [
    "T = 16\n",
    "watermark = random.choices([0,1], k=T)\n",
    "watermark"
   ]
  },
  {
   "cell_type": "code",
   "execution_count": 68,
   "metadata": {},
   "outputs": [
    {
     "name": "stdout",
     "output_type": "stream",
     "text": [
      "[0, 1, 0, 0, 1, 0, 0, 0, 0, 1, 1, 0, 0, 1, 0, 1, 0, 1, 1, 0, 1, 1, 0, 0, 0, 1, 1, 0, 1, 1, 0, 0, 0, 1, 1, 0, 1, 1, 1, 1, 0, 0, 1, 0, 1, 1, 0, 0, 0, 0, 1, 0, 0, 0, 0, 0, 0, 1, 1, 1, 0, 1, 1, 1, 0, 1, 1, 0, 1, 1, 1, 1, 0, 1, 1, 1, 0, 0, 1, 0, 0, 1, 1, 0, 1, 1, 0, 0, 0, 1, 1, 0, 0, 1, 0, 0, 0, 0, 1, 0, 0, 0, 0, 1]\n"
     ]
    }
   ],
   "source": [
    "text = \"Hello, world!\"\n",
    "binary_str = ''.join(format(ord(c), '08b') for c in text)\n",
    "binary_list = [int(b) for b in binary_str]\n",
    "\n",
    "print(binary_list)"
   ]
  },
  {
   "cell_type": "code",
   "execution_count": 14,
   "metadata": {},
   "outputs": [
    {
     "name": "stdout",
     "output_type": "stream",
     "text": [
      "0110100001100101011011000110110001101111001000000111011101101111011100100110110001100100\n",
      "[0, 1, 1, 0, 1, 0, 0, 0, 0, 1, 1, 0, 0, 1, 0, 1, 0, 1, 1, 0, 1, 1, 0, 0, 0, 1, 1, 0, 1, 1, 0, 0, 0, 1, 1, 0, 1, 1, 1, 1, 0, 0, 1, 0, 0, 0, 0, 0, 0, 1, 1, 1, 0, 1, 1, 1, 0, 1, 1, 0, 1, 1, 1, 1, 0, 1, 1, 1, 0, 0, 1, 0, 0, 1, 1, 0, 1, 1, 0, 0, 0, 1, 1, 0, 0, 1, 0, 0]\n",
      "['h', 'e', 'l', 'l', 'o', ' ', 'w', 'o', 'r', 'l', 'd']\n"
     ]
    }
   ],
   "source": [
    "text = \"hello world\"  # example text to convert\n",
    "binary_string = ''.join(format(ord(c), '08b') for c in text)  # convert the text to a binary string\n",
    "binary_list = [int(bit) for bit in binary_string]  # convert the binary string to a list of 0s and 1s\n",
    "#character = chr(int(binary_string, 2))  # convert the binary string to an integer and then to a character\n",
    "character = [str(bit) for bit in binary_list]\n",
    "character = [character[i*8:(i+1)*8] for i in range(len(character)//8)]\n",
    "character = [''.join(char) for char in character]\n",
    "character = [chr(int(char, 2)) for char in character]\n",
    "\n",
    "print(binary_string)  # prints the binary string\n",
    "print(binary_list)  # prints the list of 0s and 1s\n",
    "print(character) "
   ]
  },
  {
   "cell_type": "code",
   "execution_count": 2,
   "metadata": {},
   "outputs": [
    {
     "name": "stdout",
     "output_type": "stream",
     "text": [
      "model loaded\n",
      "(6, 3, 5, 5)\n"
     ]
    }
   ],
   "source": [
    "model = Net(10)\n",
    "model_path = '/Users/ettorehidoux/Desktop/codes projects/PA-DI-PML-H-B/models/cifar_net_20230216_003445'\n",
    "model.load_state_dict(torch.load(model_path))\n",
    "print('model loaded')\n",
    "    \n",
    "print(model.conv1.weight.detach().numpy().shape)"
   ]
  },
  {
   "cell_type": "code",
   "execution_count": 53,
   "metadata": {},
   "outputs": [],
   "source": [
    "# work on first convolution (6, 3, 5, 5)\n",
    "\n",
    "S, D, L = 5, 3, 6\n",
    "M = S*S*D\n",
    "\n",
    "W = model.conv1.weight.detach().numpy()\n",
    "w = np.mean(W, 0)\n"
   ]
  },
  {
   "cell_type": "code",
   "execution_count": 54,
   "metadata": {},
   "outputs": [
    {
     "data": {
      "text/plain": [
       "(3, 5, 5)"
      ]
     },
     "execution_count": 54,
     "metadata": {},
     "output_type": "execute_result"
    }
   ],
   "source": [
    "w.shape"
   ]
  },
  {
   "cell_type": "code",
   "execution_count": 12,
   "metadata": {},
   "outputs": [
    {
     "data": {
      "text/plain": [
       "(array([  6.,  12.,  44., 121., 132.,  93.,  30.,   9.,   0.,   3.]),\n",
       " array([-1.3396074 , -1.0316591 , -0.72371095, -0.41576272, -0.10781453,\n",
       "         0.20013368,  0.5080819 ,  0.8160301 ,  1.1239783 ,  1.4319265 ,\n",
       "         1.7398747 ], dtype=float32),\n",
       " <BarContainer object of 10 artists>)"
      ]
     },
     "execution_count": 12,
     "metadata": {},
     "output_type": "execute_result"
    },
    {
     "data": {
      "image/png": "[encoded data removed]",
      "text/plain": [
       "<Figure size 640x480 with 1 Axes>"
      ]
     },
     "metadata": {},
     "output_type": "display_data"
    }
   ],
   "source": [
    "plt.hist(W.flatten())"
   ]
  },
  {
   "cell_type": "code",
   "execution_count": 14,
   "metadata": {},
   "outputs": [
    {
     "data": {
      "text/plain": [
       "(array([ 2.,  3.,  5., 35., 27.,  9.,  4.,  2.,  1.,  2.]),\n",
       " array([-0.5845492 , -0.44745004, -0.3103509 , -0.17325175, -0.0361526 ,\n",
       "         0.10094655,  0.23804569,  0.37514484,  0.512244  ,  0.64934313,\n",
       "         0.7864423 ], dtype=float32),\n",
       " <BarContainer object of 10 artists>)"
      ]
     },
     "execution_count": 14,
     "metadata": {},
     "output_type": "execute_result"
    },
    {
     "data": {
      "image/png": "[encoded data removed]",
      "text/plain": [
       "<Figure size 640x480 with 1 Axes>"
      ]
     },
     "metadata": {},
     "output_type": "display_data"
    }
   ],
   "source": [
    "plt.hist(w.flatten())"
   ]
  },
  {
   "cell_type": "code",
   "execution_count": null,
   "metadata": {},
   "outputs": [],
   "source": []
  },
  {
   "cell_type": "code",
   "execution_count": 26,
   "metadata": {},
   "outputs": [
    {
     "name": "stdout",
     "output_type": "stream",
     "text": [
      "6\n",
      "71\n",
      "15\n",
      "26\n",
      "14\n",
      "48\n",
      "63\n",
      "41\n",
      "7\n",
      "52\n",
      "0\n",
      "73\n",
      "71\n",
      "37\n",
      "27\n",
      "22\n"
     ]
    }
   ],
   "source": [
    "for _ in range(T):\n",
    "    k = random.choice(range(M))\n",
    "    print(k)"
   ]
  },
  {
   "cell_type": "code",
   "execution_count": 22,
   "metadata": {},
   "outputs": [
    {
     "data": {
      "text/plain": [
       "(75,)"
      ]
     },
     "execution_count": 22,
     "metadata": {},
     "output_type": "execute_result"
    }
   ],
   "source": [
    "np.zeros((T, M))"
   ]
  },
  {
   "cell_type": "code",
   "execution_count": 40,
   "metadata": {},
   "outputs": [],
   "source": [
    "def get_secret_matrix(type: str, size: tuple):\n",
    "    T, M = size\n",
    "    if type == \"direct\":\n",
    "        x = np.zeros(size)\n",
    "        for i in range(T):\n",
    "            j = random.choice(range(M))\n",
    "            x[i][j] = 1\n",
    "            \n",
    "    if type == \"diff\":\n",
    "        x = np.zeros(size)\n",
    "        for i in range(T):\n",
    "            j1, j2 = random.sample(range(M), 2)\n",
    "            x[i][j1] = 1\n",
    "            x[i][j2] = -1\n",
    "    \n",
    "    if type == \"rand\":\n",
    "        x = np.random.uniform(size=size)\n",
    "        \n",
    "    return x\n",
    "\n",
    "# get_secret_matrix(\"rand\", T, M)\n",
    "        "
   ]
  },
  {
   "cell_type": "code",
   "execution_count": 43,
   "metadata": {},
   "outputs": [],
   "source": [
    "X = get_secret_matrix('direct', (T, M))\n",
    "#X"
   ]
  },
  {
   "cell_type": "code",
   "execution_count": 56,
   "metadata": {},
   "outputs": [
    {
     "data": {
      "text/plain": [
       "array([-0.09385746, -0.14125572,  0.11080915, -0.2158915 ,  0.23212419,\n",
       "        0.12937208,  0.12937208,  0.08679716, -0.10268522, -0.04603146,\n",
       "       -0.10268522,  0.08443541,  0.09624335, -0.07790485,  0.12552609,\n",
       "       -0.07521801])"
      ]
     },
     "execution_count": 56,
     "metadata": {},
     "output_type": "execute_result"
    }
   ],
   "source": [
    "x = np.dot(X, w.flatten())\n",
    "x"
   ]
  },
  {
   "cell_type": "code",
   "execution_count": 58,
   "metadata": {},
   "outputs": [
    {
     "data": {
      "text/plain": [
       "tensor([0.4766, 0.4647, 0.5277, 0.4462, 0.5578, 0.5323, 0.5323, 0.5217, 0.4744,\n",
       "        0.4885, 0.4744, 0.5211, 0.5240, 0.4805, 0.5313, 0.4812],\n",
       "       dtype=torch.float64)"
      ]
     },
     "execution_count": 58,
     "metadata": {},
     "output_type": "execute_result"
    }
   ],
   "source": [
    "s = nn.Sigmoid()\n",
    "\n",
    "x = s(torch.tensor(x))\n",
    "x"
   ]
  },
  {
   "cell_type": "code",
   "execution_count": 62,
   "metadata": {},
   "outputs": [],
   "source": [
    "import numpy as np\n",
    "\n",
    "def cross_entropy_loss(y_true, y_pred):\n",
    "    \"\"\"\n",
    "    Computes the cross-entropy loss between the true labels and the predicted\n",
    "    probabilities.\n",
    "\n",
    "    Parameters:\n",
    "    y_true (numpy array): True labels, one-hot encoded.\n",
    "    y_pred (numpy array): Predicted probabilities.\n",
    "\n",
    "    Returns:\n",
    "    float: The cross-entropy loss.\n",
    "    \"\"\"\n",
    "    n = len(y_true)\n",
    "    return -(1/n) * np.sum(y_true * np.log(y_pred) + (1 - y_true) * np.log(1 - y_pred))"
   ]
  },
  {
   "cell_type": "code",
   "execution_count": 66,
   "metadata": {},
   "outputs": [
    {
     "data": {
      "text/plain": [
       "0.6685159166375839"
      ]
     },
     "execution_count": 66,
     "metadata": {},
     "output_type": "execute_result"
    }
   ],
   "source": [
    "cross_entropy_loss(np.array(watermark), x.numpy())"
   ]
  },
  {
   "cell_type": "code",
   "execution_count": null,
   "metadata": {},
   "outputs": [],
   "source": [
    "#E(w) = E0(w) + λER(w),\n",
    "\n",
    "criterion_0 = ...\n",
    "criterion_r = ...\n",
    "y = 0.3"
   ]
  },
  {
   "cell_type": "code",
   "execution_count": 15,
   "metadata": {},
   "outputs": [
    {
     "data": {
      "text/plain": [
       "array([[0., 0., 0., ..., 0., 0., 0.],\n",
       "       [0., 0., 0., ..., 0., 0., 0.],\n",
       "       [0., 0., 0., ..., 0., 0., 0.],\n",
       "       ...,\n",
       "       [0., 0., 0., ..., 0., 0., 0.],\n",
       "       [0., 0., 0., ..., 0., 0., 0.],\n",
       "       [0., 0., 0., ..., 0., 0., 0.]])"
      ]
     },
     "execution_count": 15,
     "metadata": {},
     "output_type": "execute_result"
    }
   ],
   "source": [
    "import numpy as np \n",
    "\n",
    "np.load('/Users/ettorehidoux/Desktop/codes projects/PA-DI-PML-H-B/models/matrix_20230221_115904.npy')"
   ]
  },
  {
   "cell_type": "code",
   "execution_count": null,
   "metadata": {},
   "outputs": [],
   "source": []
  }
 ],
 "metadata": {
  "kernelspec": {
   "display_name": "Python 3",
   "language": "python",
   "name": "python3"
  },
  "language_info": {
   "codemirror_mode": {
    "name": "ipython",
    "version": 3
   },
   "file_extension": ".py",
   "mimetype": "text/x-python",
   "name": "python",
   "nbconvert_exporter": "python",
   "pygments_lexer": "ipython3",
   "version": "3.9.6"
  },
  "orig_nbformat": 4,
  "vscode": {
   "interpreter": {
    "hash": "31f2aee4e71d21fbe5cf8b01ff0e069b9275f58929596ceb00d14d90e3e16cd6"
   }
  }
 },
 "nbformat": 4,
 "nbformat_minor": 2
}
